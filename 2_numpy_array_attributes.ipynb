{
 "cells": [
  {
   "cell_type": "markdown",
   "metadata": {},
   "source": [
    "# NumPy Array Attributes"
   ]
  },
  {
   "cell_type": "code",
   "execution_count": 1,
   "metadata": {
    "collapsed": true
   },
   "outputs": [],
   "source": [
    "import numpy as np"
   ]
  },
  {
   "cell_type": "code",
   "execution_count": 4,
   "metadata": {
    "collapsed": true
   },
   "outputs": [],
   "source": [
    "# create one-dimensional array which size is 6\n",
    "x1 = np.random.randint(10, size=6)"
   ]
  },
  {
   "cell_type": "code",
   "execution_count": 5,
   "metadata": {
    "collapsed": true
   },
   "outputs": [],
   "source": [
    "# create two-dimensional array which dimension is 3x4\n",
    "x2 = np.random.randint(10, size=(3,4))\n"
   ]
  },
  {
   "cell_type": "code",
   "execution_count": 6,
   "metadata": {
    "collapsed": true
   },
   "outputs": [],
   "source": [
    "# create three-dimensional array which dimension is 3x4x5\n",
    "x3 = np.random.randint(10, size=(3,4,5))"
   ]
  },
  {
   "cell_type": "code",
   "execution_count": 7,
   "metadata": {},
   "outputs": [
    {
     "name": "stdout",
     "output_type": "stream",
     "text": [
      "x3 ndim:  3\n",
      "x3 shape:  (3, 4, 5)\n",
      "x3 size:  60\n"
     ]
    }
   ],
   "source": [
    "print(\"x3 ndim: \", x3.ndim) # the number of dimensions\n",
    "print(\"x3 shape: \", x3.shape) # the size of each dimension\n",
    "print(\"x3 size: \", x3.size) # the total size of the array"
   ]
  },
  {
   "cell_type": "code",
   "execution_count": 8,
   "metadata": {},
   "outputs": [
    {
     "name": "stdout",
     "output_type": "stream",
     "text": [
      "dtype of x3:  int64\n",
      "dtype of x2:  int64\n",
      "dtype of x1:  int64\n"
     ]
    }
   ],
   "source": [
    "# print data type of array\n",
    "print(\"dtype of x3: \", x3.dtype)\n",
    "print(\"dtype of x2: \", x2.dtype)\n",
    "print(\"dtype of x1: \", x1.dtype)"
   ]
  },
  {
   "cell_type": "code",
   "execution_count": 9,
   "metadata": {},
   "outputs": [
    {
     "name": "stdout",
     "output_type": "stream",
     "text": [
      "item size of x3:  8\n",
      "item size of x2:  8\n",
      "item size of x1:  8\n",
      "total size of x3:  480\n",
      "total size of x2:  96\n",
      "total size of x1:  48\n"
     ]
    }
   ],
   "source": [
    "# print the item size and total size of array(sizes in bytes)\n",
    "print(\"item size of x3: \", x3.itemsize)\n",
    "print(\"item size of x2: \", x2.itemsize)\n",
    "print(\"item size of x1: \", x1.itemsize)\n",
    "\n",
    "print(\"total size of x3: \", x3.nbytes)\n",
    "print(\"total size of x2: \", x2.nbytes)\n",
    "print(\"total size of x1: \", x1.nbytes)\n"
   ]
  },
  {
   "cell_type": "code",
   "execution_count": 10,
   "metadata": {},
   "outputs": [
    {
     "data": {
      "text/plain": [
       "1"
      ]
     },
     "execution_count": 10,
     "metadata": {},
     "output_type": "execute_result"
    }
   ],
   "source": [
    "# indexing in arrays\n",
    "x2[0,0]"
   ]
  },
  {
   "cell_type": "code",
   "execution_count": 11,
   "metadata": {},
   "outputs": [
    {
     "data": {
      "text/plain": [
       "array([[1, 2, 7, 6],\n",
       "       [0, 5, 1, 9],\n",
       "       [5, 6, 7, 6]])"
      ]
     },
     "execution_count": 11,
     "metadata": {},
     "output_type": "execute_result"
    }
   ],
   "source": [
    "x2"
   ]
  },
  {
   "cell_type": "code",
   "execution_count": 12,
   "metadata": {},
   "outputs": [
    {
     "data": {
      "text/plain": [
       "6"
      ]
     },
     "execution_count": 12,
     "metadata": {},
     "output_type": "execute_result"
    }
   ],
   "source": [
    "x2[2, -1]"
   ]
  },
  {
   "cell_type": "code",
   "execution_count": 13,
   "metadata": {},
   "outputs": [
    {
     "data": {
      "text/plain": [
       "3"
      ]
     },
     "execution_count": 13,
     "metadata": {},
     "output_type": "execute_result"
    }
   ],
   "source": [
    "# modifying array\n",
    "x2[2, -1] = 3\n",
    "x2[2, -1]"
   ]
  },
  {
   "cell_type": "code",
   "execution_count": 16,
   "metadata": {},
   "outputs": [
    {
     "name": "stdout",
     "output_type": "stream",
     "text": [
      "One-Dimensional Array:  [0 3 8 7 5 7]\n",
      "First five elements:  [0 3 8 7 5]\n",
      "Elements after index 5:  [7]\n",
      "Middle subarray:  [7 5]\n",
      "Every other elements:  [0 8 5]\n",
      "Every other element start at index 1:  [3 7 7]\n",
      "All elements:  [7 5 7 8 3 0]\n",
      "Reversed everty other from index 5:  [7 7 3]\n"
     ]
    }
   ],
   "source": [
    "# one-dimensional array slicing operations\n",
    "print(\"One-Dimensional Array: \", x1)\n",
    "print(\"First five elements: \", x1[:5]) \n",
    "print(\"Elements after index 5: \", x1[5:]) \n",
    "print(\"Middle subarray: \", x1[3:5] )\n",
    "print(\"Every other elements: \", x1[::2]) \n",
    "print(\"Every other element start at index 1: \", x1[1::2])\n",
    "print(\"All elements: \", x1[::-1])\n",
    "print(\"Reversed every other from index 5: \", x1[5::-2])"
   ]
  },
  {
   "cell_type": "code",
   "execution_count": 17,
   "metadata": {},
   "outputs": [
    {
     "name": "stdout",
     "output_type": "stream",
     "text": [
      "Multi-Dimensional Array:  [[1 2 7 6]\n",
      " [0 5 1 9]\n",
      " [5 6 7 3]]\n",
      "Two rows, three columns:  [[1 2 7]\n",
      " [0 5 1]]\n",
      "All rows, every other column:  [[1 7]\n",
      " [0 1]\n",
      " [5 7]]\n",
      "Reversed rows and columns:  [[3 7 6 5]\n",
      " [9 1 5 0]\n",
      " [6 7 2 1]]\n",
      "First column of x2:  [1 0 5]\n",
      "First row of x2:  [1 2 7 6]\n",
      "First row of x2:  [1 2 7 6]\n"
     ]
    }
   ],
   "source": [
    "# multi-dimensional array slicing operations\n",
    "print(\"Multi-Dimensional Array: \", x2)\n",
    "print(\"Two rows, three columns: \", x2[:2, :3])\n",
    "print(\"All rows, every other column: \", x2[:3, ::2])\n",
    "print(\"Reversed rows and columns: \", x2[::-1, ::-1])\n",
    "print(\"First column of x2: \", x2[:, 0])\n",
    "print(\"First row of x2: \", x2[0, :])\n",
    "print(\"First row of x2: \", x2[0])"
   ]
  },
  {
   "cell_type": "code",
   "execution_count": 18,
   "metadata": {},
   "outputs": [
    {
     "name": "stdout",
     "output_type": "stream",
     "text": [
      "[[1 2]\n",
      " [0 5]]\n"
     ]
    }
   ],
   "source": [
    "# creating copy of array\n",
    "x2_copy = x2[:2, :2].copy()\n",
    "print(x2_copy)"
   ]
  },
  {
   "cell_type": "code",
   "execution_count": 21,
   "metadata": {},
   "outputs": [
    {
     "name": "stdout",
     "output_type": "stream",
     "text": [
      "[[1 2 3]\n",
      " [4 5 6]\n",
      " [7 8 9]]\n"
     ]
    }
   ],
   "source": [
    "# reshape an array via np.arange()\n",
    "a = np.arange(1,10).reshape((3,3))\n",
    "print(a)"
   ]
  },
  {
   "cell_type": "code",
   "execution_count": 23,
   "metadata": {},
   "outputs": [
    {
     "data": {
      "text/plain": [
       "array([[1, 2, 3]])"
      ]
     },
     "execution_count": 23,
     "metadata": {},
     "output_type": "execute_result"
    }
   ],
   "source": [
    "# row vector via reshape\n",
    "x = np.array([1,2,3])\n",
    "x.reshape((1,3))"
   ]
  },
  {
   "cell_type": "code",
   "execution_count": 24,
   "metadata": {},
   "outputs": [
    {
     "data": {
      "text/plain": [
       "array([[1, 2, 3]])"
      ]
     },
     "execution_count": 24,
     "metadata": {},
     "output_type": "execute_result"
    }
   ],
   "source": [
    "# row vector via newaxis\n",
    "x[np.newaxis, :]"
   ]
  },
  {
   "cell_type": "code",
   "execution_count": 25,
   "metadata": {},
   "outputs": [
    {
     "data": {
      "text/plain": [
       "array([[1],\n",
       "       [2],\n",
       "       [3]])"
      ]
     },
     "execution_count": 25,
     "metadata": {},
     "output_type": "execute_result"
    }
   ],
   "source": [
    "# column vector via reshape\n",
    "x.reshape((3,1))"
   ]
  },
  {
   "cell_type": "code",
   "execution_count": 26,
   "metadata": {},
   "outputs": [
    {
     "data": {
      "text/plain": [
       "array([[1],\n",
       "       [2],\n",
       "       [3]])"
      ]
     },
     "execution_count": 26,
     "metadata": {},
     "output_type": "execute_result"
    }
   ],
   "source": [
    "# column vector via newaxis\n",
    "x[:, np.newaxis]"
   ]
  },
  {
   "cell_type": "code",
   "execution_count": 35,
   "metadata": {},
   "outputs": [
    {
     "name": "stdout",
     "output_type": "stream",
     "text": [
      "x:  [2 2 2]\n",
      "y:  [4 3 5]\n",
      "concatenated x and y:  [2 2 2 4 3 5]\n"
     ]
    }
   ],
   "source": [
    "# concatenate two arrays\n",
    "x = np.random.randint(1,4, size=3)\n",
    "y = np.random.randint(2,6, size=3)\n",
    "z = np.concatenate([x,y])\n",
    "print(\"x: \", x)\n",
    "print(\"y: \", y)\n",
    "print(\"concatenated x and y: \", z)"
   ]
  },
  {
   "cell_type": "code",
   "execution_count": 36,
   "metadata": {},
   "outputs": [
    {
     "name": "stdout",
     "output_type": "stream",
     "text": [
      "[[1 2 3]\n",
      " [4 5 6]]\n"
     ]
    },
    {
     "data": {
      "text/plain": [
       "array([[1, 2, 3],\n",
       "       [4, 5, 6],\n",
       "       [1, 2, 3],\n",
       "       [4, 5, 6]])"
      ]
     },
     "execution_count": 36,
     "metadata": {},
     "output_type": "execute_result"
    }
   ],
   "source": [
    "# concatenate two multi-dimensional array\n",
    "x = np.array([[1,2,3], [4,5,6]])\n",
    "print(x)\n",
    "np.concatenate([x, x])"
   ]
  },
  {
   "cell_type": "code",
   "execution_count": 37,
   "metadata": {},
   "outputs": [
    {
     "name": "stdout",
     "output_type": "stream",
     "text": [
      "[[1 2 3]\n",
      " [4 5 6]]\n"
     ]
    },
    {
     "data": {
      "text/plain": [
       "array([[1, 2, 3],\n",
       "       [4, 5, 6],\n",
       "       [1, 2, 3],\n",
       "       [4, 5, 6]])"
      ]
     },
     "execution_count": 37,
     "metadata": {},
     "output_type": "execute_result"
    }
   ],
   "source": [
    "# concatenate two multi-dimensional array along the first axis\n",
    "print(x)\n",
    "np.concatenate([x, x], axis=0)"
   ]
  },
  {
   "cell_type": "code",
   "execution_count": 38,
   "metadata": {},
   "outputs": [
    {
     "name": "stdout",
     "output_type": "stream",
     "text": [
      "[[1 2 3]\n",
      " [4 5 6]]\n"
     ]
    },
    {
     "data": {
      "text/plain": [
       "array([[1, 2, 3, 1, 2, 3],\n",
       "       [4, 5, 6, 4, 5, 6]])"
      ]
     },
     "execution_count": 38,
     "metadata": {},
     "output_type": "execute_result"
    }
   ],
   "source": [
    "# concatenate two multi-dimensional array along the second axis\n",
    "print(x)\n",
    "np.concatenate([x,x], axis=1)"
   ]
  },
  {
   "cell_type": "code",
   "execution_count": 39,
   "metadata": {},
   "outputs": [
    {
     "data": {
      "text/plain": [
       "array([[8, 8, 8],\n",
       "       [1, 2, 3],\n",
       "       [4, 5, 6]])"
      ]
     },
     "execution_count": 39,
     "metadata": {},
     "output_type": "execute_result"
    }
   ],
   "source": [
    "# vertical stack the arrays\n",
    "y = np.array([8, 8, 8])\n",
    "np.vstack([y, x])"
   ]
  },
  {
   "cell_type": "code",
   "execution_count": 41,
   "metadata": {},
   "outputs": [
    {
     "data": {
      "text/plain": [
       "array([[1, 2, 3, 8],\n",
       "       [4, 5, 6, 8]])"
      ]
     },
     "execution_count": 41,
     "metadata": {},
     "output_type": "execute_result"
    }
   ],
   "source": [
    "# horizotally stack the arrays\n",
    "y = np.array([[8], [8]])\n",
    "np.hstack([x, y])"
   ]
  },
  {
   "cell_type": "code",
   "execution_count": 43,
   "metadata": {},
   "outputs": [
    {
     "name": "stdout",
     "output_type": "stream",
     "text": [
      "[1 2 3] [99 99] [3 2 1]\n"
     ]
    }
   ],
   "source": [
    "# array splitting operations via np.split\n",
    "x = [1 ,2, 3, 99, 99, 3, 2, 1]\n",
    "a1, a2, a3 = np.split(x, [3, 5])\n",
    "print(a1, a2, a3)\n"
   ]
  },
  {
   "cell_type": "code",
   "execution_count": 45,
   "metadata": {},
   "outputs": [
    {
     "name": "stdout",
     "output_type": "stream",
     "text": [
      "Grid:  [[ 0  1  2  3]\n",
      " [ 4  5  6  7]\n",
      " [ 8  9 10 11]\n",
      " [12 13 14 15]]\n",
      "Upper:  [[0 1 2 3]\n",
      " [4 5 6 7]]\n",
      "Lower:  [[ 8  9 10 11]\n",
      " [12 13 14 15]]\n"
     ]
    }
   ],
   "source": [
    "# array splitting operations via np.vsplit\n",
    "grid = np.arange(16).reshape((4,4))\n",
    "print(\"Grid: \", grid)\n",
    "\n",
    "upper, lower = np.vsplit(grid, [2])\n",
    "print(\"Upper: \", upper)\n",
    "print(\"Lower: \", lower)"
   ]
  },
  {
   "cell_type": "code",
   "execution_count": 46,
   "metadata": {},
   "outputs": [
    {
     "name": "stdout",
     "output_type": "stream",
     "text": [
      "Left:  [[0 1 2 3]\n",
      " [4 5 6 7]]\n",
      "Right:  [[ 8  9 10 11]\n",
      " [12 13 14 15]]\n"
     ]
    }
   ],
   "source": [
    "# array splitting operations via np.hsplit\n",
    "left, right = np.vsplit(grid, [2])\n",
    "print(\"Left: \", left)\n",
    "print(\"Right: \", right)"
   ]
  },
  {
   "cell_type": "code",
   "execution_count": null,
   "metadata": {
    "collapsed": true
   },
   "outputs": [],
   "source": []
  }
 ],
 "metadata": {
  "kernelspec": {
   "display_name": "Python 3",
   "language": "python",
   "name": "python3"
  },
  "language_info": {
   "codemirror_mode": {
    "name": "ipython",
    "version": 3
   },
   "file_extension": ".py",
   "mimetype": "text/x-python",
   "name": "python",
   "nbconvert_exporter": "python",
   "pygments_lexer": "ipython3",
   "version": "3.6.1"
  }
 },
 "nbformat": 4,
 "nbformat_minor": 2
}
