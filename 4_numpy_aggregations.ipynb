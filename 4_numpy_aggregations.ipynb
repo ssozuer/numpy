{
 "cells": [
  {
   "cell_type": "markdown",
   "metadata": {},
   "source": [
    "# Aggregations"
   ]
  },
  {
   "cell_type": "code",
   "execution_count": 1,
   "metadata": {
    "collapsed": true
   },
   "outputs": [],
   "source": [
    "import numpy as np"
   ]
  },
  {
   "cell_type": "code",
   "execution_count": 2,
   "metadata": {},
   "outputs": [
    {
     "data": {
      "text/plain": [
       "47.967345047442343"
      ]
     },
     "execution_count": 2,
     "metadata": {},
     "output_type": "execute_result"
    }
   ],
   "source": [
    "# Summing the values in array \n",
    "x = np.random.random(100)\n",
    "np.sum(x)"
   ]
  },
  {
   "cell_type": "code",
   "execution_count": 4,
   "metadata": {},
   "outputs": [
    {
     "name": "stdout",
     "output_type": "stream",
     "text": [
      "Min value:  0.0049525467757\n",
      "Max value:  0.990946158626\n"
     ]
    }
   ],
   "source": [
    "# Min and Max \n",
    "print(\"Min value: \", np.min(x))\n",
    "print(\"Max value: \", np.max(x))"
   ]
  },
  {
   "cell_type": "code",
   "execution_count": 5,
   "metadata": {},
   "outputs": [
    {
     "name": "stdout",
     "output_type": "stream",
     "text": [
      "[[ 0.04439417  0.02350282  0.10349289  0.52232761]\n",
      " [ 0.01339141  0.49762198  0.99392436  0.32668763]\n",
      " [ 0.66493567  0.35311175  0.83219309  0.15653336]]\n"
     ]
    }
   ],
   "source": [
    "M = np.random.random((3,4))\n",
    "print(M)"
   ]
  },
  {
   "cell_type": "code",
   "execution_count": 6,
   "metadata": {},
   "outputs": [
    {
     "data": {
      "text/plain": [
       "4.5321167458256504"
      ]
     },
     "execution_count": 6,
     "metadata": {},
     "output_type": "execute_result"
    }
   ],
   "source": [
    "M.sum()"
   ]
  },
  {
   "cell_type": "code",
   "execution_count": 7,
   "metadata": {},
   "outputs": [
    {
     "data": {
      "text/plain": [
       "0.013391413800862173"
      ]
     },
     "execution_count": 7,
     "metadata": {},
     "output_type": "execute_result"
    }
   ],
   "source": [
    "M.min()"
   ]
  },
  {
   "cell_type": "code",
   "execution_count": 8,
   "metadata": {},
   "outputs": [
    {
     "data": {
      "text/plain": [
       "array([ 0.01339141,  0.02350282,  0.10349289,  0.15653336])"
      ]
     },
     "execution_count": 8,
     "metadata": {},
     "output_type": "execute_result"
    }
   ],
   "source": [
    "M.min(axis=0) # along the columns "
   ]
  },
  {
   "cell_type": "code",
   "execution_count": 9,
   "metadata": {},
   "outputs": [
    {
     "data": {
      "text/plain": [
       "array([ 0.02350282,  0.01339141,  0.15653336])"
      ]
     },
     "execution_count": 9,
     "metadata": {},
     "output_type": "execute_result"
    }
   ],
   "source": [
    "M.min(axis=1) # along the rows"
   ]
  },
  {
   "cell_type": "code",
   "execution_count": 12,
   "metadata": {},
   "outputs": [
    {
     "data": {
      "text/plain": [
       "array([ 0.66493567,  0.49762198,  0.99392436,  0.52232761])"
      ]
     },
     "execution_count": 12,
     "metadata": {},
     "output_type": "execute_result"
    }
   ],
   "source": [
    "M.max(axis=0)"
   ]
  },
  {
   "cell_type": "code",
   "execution_count": 13,
   "metadata": {},
   "outputs": [
    {
     "data": {
      "text/plain": [
       "array([ 0.52232761,  0.99392436,  0.83219309])"
      ]
     },
     "execution_count": 13,
     "metadata": {},
     "output_type": "execute_result"
    }
   ],
   "source": [
    "M.max(axis=1)"
   ]
  },
  {
   "cell_type": "code",
   "execution_count": 15,
   "metadata": {},
   "outputs": [
    {
     "name": "stdout",
     "output_type": "stream",
     "text": [
      "[[1 2 3]\n",
      " [4 5 6]\n",
      " [7 8 9]]\n"
     ]
    }
   ],
   "source": [
    "M = np.arange(1,10).reshape((3,3))\n",
    "print(M)"
   ]
  },
  {
   "cell_type": "code",
   "execution_count": 18,
   "metadata": {},
   "outputs": [
    {
     "name": "stdout",
     "output_type": "stream",
     "text": [
      "Sum of elements      np.sum(M)   : 45\n",
      "Product of elements  np.prod(M)  : 362880\n",
      "Mean of elements     np.mean(M)  : 5.0\n",
      "Standard deviation   np.std(M)   : 2.58198889747\n",
      "Variance             np.var(M)   : 6.66666666667\n",
      "Min Value            np.min(M)   : 1\n",
      "Max Value            np.max(M)   : 9\n",
      "Index of min value   np.argmin(M): 0\n",
      "Index of max value   np.argmax(M): 8\n",
      "Median               np.median(M): 5.0\n",
      "Rank based statistics of elements np.percentile(M): 1.04\n",
      "Evaluate whether any elements are true  np.any(M): True\n",
      "Evaluate whether all elements are true np.all(M): True\n"
     ]
    }
   ],
   "source": [
    "print(\"Sum of elements      np.sum(M)   :\", np.sum(M))\n",
    "print(\"Product of elements  np.prod(M)  :\", np.prod(M))\n",
    "print(\"Mean of elements     np.mean(M)  :\", np.mean(M))\n",
    "print(\"Standard deviation   np.std(M)   :\", np.std(M))\n",
    "print(\"Variance             np.var(M)   :\", np.var(M))\n",
    "print(\"Min Value            np.min(M)   :\", np.min(M))\n",
    "print(\"Max Value            np.max(M)   :\", np.max(M))\n",
    "print(\"Index of min value   np.argmin(M):\", np.argmin(M))\n",
    "print(\"Index of max value   np.argmax(M):\", np.argmax(M))\n",
    "print(\"Median               np.median(M):\", np.median(M))\n",
    "print(\"Rank based statistics of elements np.percentile(M):\", np.percentile(M, q=.5) )\n",
    "print(\"Evaluate whether any elements are true  np.any(M):\", np.any(M))\n",
    "print(\"Evaluate whether all elements are true np.all(M):\", np.all(M))"
   ]
  },
  {
   "cell_type": "code",
   "execution_count": null,
   "metadata": {
    "collapsed": true
   },
   "outputs": [],
   "source": []
  }
 ],
 "metadata": {
  "kernelspec": {
   "display_name": "Python 3",
   "language": "python",
   "name": "python3"
  },
  "language_info": {
   "codemirror_mode": {
    "name": "ipython",
    "version": 3
   },
   "file_extension": ".py",
   "mimetype": "text/x-python",
   "name": "python",
   "nbconvert_exporter": "python",
   "pygments_lexer": "ipython3",
   "version": "3.6.1"
  }
 },
 "nbformat": 4,
 "nbformat_minor": 2
}
