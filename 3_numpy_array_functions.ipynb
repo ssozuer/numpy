{
 "cells": [
  {
   "cell_type": "markdown",
   "metadata": {},
   "source": [
    "# NumPy Functions"
   ]
  },
  {
   "cell_type": "code",
   "execution_count": 1,
   "metadata": {
    "collapsed": true
   },
   "outputs": [],
   "source": [
    "import numpy as np"
   ]
  },
  {
   "cell_type": "code",
   "execution_count": 4,
   "metadata": {},
   "outputs": [
    {
     "name": "stdout",
     "output_type": "stream",
     "text": [
      "x      : [0 1 2 3]\n",
      "x+5    : [5 6 7 8]\n",
      "x-2    : [-2 -1  0  1]\n",
      "x*2    : [0 2 4 6]\n",
      "x/2    : [ 0.   0.5  1.   1.5]\n",
      "x//2   : [0 0 1 1]\n",
      "x**2   : [0 1 4 9]\n",
      "x%2    : [0 1 0 1]\n",
      "-x     : [ 0 -1 -2 -3]\n"
     ]
    }
   ],
   "source": [
    "# Array Arithmetic\n",
    "x = np.arange(4)\n",
    "print(\"x      :\", x)\n",
    "print(\"x+5    :\", np.add(x,5))\n",
    "print(\"x-2    :\", np.subtract(x,2))\n",
    "print(\"x*2    :\", np.multiply(x,2))\n",
    "print(\"x/2    :\", np.divide(x,2))\n",
    "print(\"x//2   :\", np.floor_divide(x, 2))\n",
    "print(\"x**2   :\", np.power(x,2))\n",
    "print(\"x%2    :\", np.mod(x,2))\n",
    "print(\"-x     :\", np.negative(x))"
   ]
  },
  {
   "cell_type": "code",
   "execution_count": 5,
   "metadata": {},
   "outputs": [
    {
     "data": {
      "text/plain": [
       "array([2, 1, 0, 1, 2])"
      ]
     },
     "execution_count": 5,
     "metadata": {},
     "output_type": "execute_result"
    }
   ],
   "source": [
    "# Absolute Value\n",
    "x = np.array([-2, -1, 0, 1, 2])\n",
    "np.abs(x)"
   ]
  },
  {
   "cell_type": "code",
   "execution_count": 8,
   "metadata": {},
   "outputs": [
    {
     "name": "stdout",
     "output_type": "stream",
     "text": [
      "Theta     : [ 0.          1.57079633  3.14159265]\n",
      "sin(theta): [  0.00000000e+00   1.00000000e+00   1.22464680e-16]\n",
      "cos(theta): [  1.00000000e+00   6.12323400e-17  -1.00000000e+00]\n",
      "tan(theta): [  0.00000000e+00   1.63312394e+16  -1.22464680e-16]\n",
      "x         : [-1, 0, 1]\n",
      "arcsinx(x): [-1.57079633  0.          1.57079633]\n",
      "arccos(x) : [ 3.14159265  1.57079633  0.        ]\n",
      "arctan(x) : [-0.78539816  0.          0.78539816]\n"
     ]
    }
   ],
   "source": [
    "# Trigonometric Functions\n",
    "theta = np.linspace(0, np.pi, 3)\n",
    "print(\"Theta     :\", theta)\n",
    "print(\"sin(theta):\", np.sin(theta))\n",
    "print(\"cos(theta):\", np.cos(theta))\n",
    "print(\"tan(theta):\", np.tan(theta))\n",
    "\n",
    "x = [-1, 0, 1]\n",
    "print(\"x         :\", x)\n",
    "print(\"arcsinx(x):\", np.arcsin(x))\n",
    "print(\"arccos(x) :\", np.arccos(x))\n",
    "print(\"arctan(x) :\", np.arctan(x))"
   ]
  },
  {
   "cell_type": "code",
   "execution_count": 9,
   "metadata": {},
   "outputs": [
    {
     "name": "stdout",
     "output_type": "stream",
     "text": [
      "x     : [1 2 3]\n",
      "e^x   : [  2.71828183   7.3890561   20.08553692]\n",
      "2^x   : [ 2.  4.  8.]\n",
      "3^x   : [ 3  9 27]\n",
      "ln(x) : [ 0.          0.69314718  1.09861229]\n",
      "log2(x) : [ 0.         1.         1.5849625]\n",
      "log10(x) : [ 0.          0.30103     0.47712125]\n"
     ]
    }
   ],
   "source": [
    "# Exponents and Logarithmic Functions\n",
    "x = np.array([ 1, 2, 3])\n",
    "print(\"x     :\", x)\n",
    "print(\"e^x   :\", np.exp(x))\n",
    "print(\"2^x   :\", np.exp2(x))\n",
    "print(\"3^x   :\", np.power(3,x))\n",
    "print(\"ln(x) :\", np.log(x))\n",
    "print(\"log2(x) :\", np.log2(x))\n",
    "print(\"log10(x) :\", np.log10(x))"
   ]
  },
  {
   "cell_type": "code",
   "execution_count": 10,
   "metadata": {},
   "outputs": [
    {
     "data": {
      "text/plain": [
       "15"
      ]
     },
     "execution_count": 10,
     "metadata": {},
     "output_type": "execute_result"
    }
   ],
   "source": [
    "# Aggregates\n",
    "x = np.arange(1,6)\n",
    "np.add.reduce(x) # sum of all elements in array"
   ]
  },
  {
   "cell_type": "code",
   "execution_count": 11,
   "metadata": {},
   "outputs": [
    {
     "data": {
      "text/plain": [
       "120"
      ]
     },
     "execution_count": 11,
     "metadata": {},
     "output_type": "execute_result"
    }
   ],
   "source": [
    "np.multiply.reduce(x) # product of all elements in array"
   ]
  },
  {
   "cell_type": "code",
   "execution_count": 12,
   "metadata": {},
   "outputs": [
    {
     "data": {
      "text/plain": [
       "array([ 1,  3,  6, 10, 15])"
      ]
     },
     "execution_count": 12,
     "metadata": {},
     "output_type": "execute_result"
    }
   ],
   "source": [
    "np.add.accumulate(x) # intermediate results"
   ]
  },
  {
   "cell_type": "code",
   "execution_count": null,
   "metadata": {
    "collapsed": true
   },
   "outputs": [],
   "source": [
    "np.multiply.accumulate(x) # intermediate results for product"
   ]
  }
 ],
 "metadata": {
  "kernelspec": {
   "display_name": "Python 3",
   "language": "python",
   "name": "python3"
  },
  "language_info": {
   "codemirror_mode": {
    "name": "ipython",
    "version": 3
   },
   "file_extension": ".py",
   "mimetype": "text/x-python",
   "name": "python",
   "nbconvert_exporter": "python",
   "pygments_lexer": "ipython3",
   "version": "3.6.1"
  }
 },
 "nbformat": 4,
 "nbformat_minor": 2
}
