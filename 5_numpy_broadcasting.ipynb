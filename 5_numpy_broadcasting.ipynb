{
 "cells": [
  {
   "cell_type": "markdown",
   "metadata": {},
   "source": [
    "# Broadcasting"
   ]
  },
  {
   "cell_type": "code",
   "execution_count": 1,
   "metadata": {
    "collapsed": true
   },
   "outputs": [],
   "source": [
    "import numpy as np"
   ]
  },
  {
   "cell_type": "code",
   "execution_count": 4,
   "metadata": {},
   "outputs": [
    {
     "name": "stdout",
     "output_type": "stream",
     "text": [
      "M:  [[ 1.  1.  1.]\n",
      " [ 1.  1.  1.]]\n",
      "x:  [0 1 2]\n",
      "Shape of M:  (2, 3)\n",
      "Shape of a:  (3,)\n",
      "Result:  [[ 1.  2.  3.]\n",
      " [ 1.  2.  3.]]\n",
      "Shape of result:  (2, 3)\n"
     ]
    }
   ],
   "source": [
    "# Adding a two-dimensional array to a one-dimensional array\n",
    "M = np.ones((2,3))\n",
    "x = np.arange(3)\n",
    "\n",
    "print(\"M: \", M)\n",
    "print(\"x: \", x)\n",
    "\n",
    "print(\"Shape of M: \", M.shape)\n",
    "print(\"Shape of a: \", x.shape)\n",
    "\n",
    "result = M + x\n",
    "print(\"Result: \", result)\n",
    "print(\"Shape of result: \", result.shape)\n"
   ]
  },
  {
   "cell_type": "code",
   "execution_count": 6,
   "metadata": {},
   "outputs": [
    {
     "name": "stdout",
     "output_type": "stream",
     "text": [
      "a : [0 1 2]\n",
      "b : [[0]\n",
      " [1]\n",
      " [2]]\n",
      "Shape of a:  (3,)\n",
      "Shape of b:  (3, 1)\n"
     ]
    },
    {
     "data": {
      "text/plain": [
       "array([[0, 1, 2],\n",
       "       [1, 2, 3],\n",
       "       [2, 3, 4]])"
      ]
     },
     "execution_count": 6,
     "metadata": {},
     "output_type": "execute_result"
    }
   ],
   "source": [
    "a = np.arange(3)\n",
    "b = np.arange(3)[:, np.newaxis]\n",
    "print(\"a :\", a)\n",
    "print(\"b :\", b)\n",
    "print(\"Shape of a: \", a.shape)\n",
    "print(\"Shape of b: \", b.shape)\n",
    "\n",
    "a+b"
   ]
  },
  {
   "cell_type": "code",
   "execution_count": 11,
   "metadata": {},
   "outputs": [
    {
     "name": "stdout",
     "output_type": "stream",
     "text": [
      "[[ 0.9606346   0.24523743  0.65646832]\n",
      " [ 0.24737808  0.9760433   0.69580224]\n",
      " [ 0.71019034  0.6876264   0.06252497]\n",
      " [ 0.08977847  0.63441762  0.70452509]\n",
      " [ 0.81631548  0.86019427  0.63874566]\n",
      " [ 0.91168766  0.73327774  0.04002083]\n",
      " [ 0.36241397  0.91878132  0.1098613 ]\n",
      " [ 0.21258938  0.66578683  0.40200139]\n",
      " [ 0.5246535   0.22319485  0.22439071]\n",
      " [ 0.95845153  0.39199701  0.74677985]]\n",
      "\n",
      "\n",
      "[ 0.5794093   0.63365568  0.42811204]\n",
      "\n",
      "\n",
      "[[ 0.3812253  -0.38841824  0.22835629]\n",
      " [-0.33203122  0.34238762  0.26769021]\n",
      " [ 0.13078104  0.05397073 -0.36558707]\n",
      " [-0.48963083  0.00076194  0.27641305]\n",
      " [ 0.23690617  0.22653859  0.21063362]\n",
      " [ 0.33227836  0.09962206 -0.3880912 ]\n",
      " [-0.21699533  0.28512564 -0.31825074]\n",
      " [-0.36681992  0.03213115 -0.02611065]\n",
      " [-0.0547558  -0.41046082 -0.20372132]\n",
      " [ 0.37904223 -0.24165867  0.31866781]]\n"
     ]
    }
   ],
   "source": [
    "# centering an array via broadcasting\n",
    "M = np.random.random((10,3))\n",
    "print(M)\n",
    "print(\"\\n\")\n",
    "\n",
    "\n",
    "M_mean = M.mean(0)\n",
    "print(M_mean)\n",
    "print(\"\\n\")\n",
    "M_centered = M - M_mean\n",
    "print(M_centered)"
   ]
  },
  {
   "cell_type": "code",
   "execution_count": null,
   "metadata": {
    "collapsed": true
   },
   "outputs": [],
   "source": []
  }
 ],
 "metadata": {
  "kernelspec": {
   "display_name": "Python 3",
   "language": "python",
   "name": "python3"
  },
  "language_info": {
   "codemirror_mode": {
    "name": "ipython",
    "version": 3
   },
   "file_extension": ".py",
   "mimetype": "text/x-python",
   "name": "python",
   "nbconvert_exporter": "python",
   "pygments_lexer": "ipython3",
   "version": "3.6.1"
  }
 },
 "nbformat": 4,
 "nbformat_minor": 2
}
